{
 "cells": [
  {
   "cell_type": "markdown",
   "metadata": {},
   "source": [
    "# Classifying Chinese Logs"
   ]
  },
  {
   "cell_type": "markdown",
   "metadata": {},
   "source": [
    "https://gist.github.com/bartolsthoorn/36c813a4becec1b260392f5353c8b7cc"
   ]
  },
  {
   "cell_type": "markdown",
   "metadata": {},
   "source": [
    "## Imports"
   ]
  },
  {
   "cell_type": "code",
   "execution_count": 1,
   "metadata": {},
   "outputs": [],
   "source": [
    "from argparse import Namespace\n",
    "from collections import Counter\n",
    "import json\n",
    "import os\n",
    "import re\n",
    "import string\n",
    "import jieba\n",
    "import numpy as np\n",
    "import pandas as pd\n",
    "import torch\n",
    "import torch.nn as nn\n",
    "import torch.nn.functional as F\n",
    "import torch.optim as optim\n",
    "from torch.utils.data import Dataset, DataLoader\n",
    "from tqdm import tqdm_notebook"
   ]
  },
  {
   "cell_type": "markdown",
   "metadata": {},
   "source": [
    "## Data Vectorization classes"
   ]
  },
  {
   "cell_type": "markdown",
   "metadata": {},
   "source": [
    "### The Vocabulary"
   ]
  },
  {
   "cell_type": "code",
   "execution_count": 2,
   "metadata": {
    "code_folding": []
   },
   "outputs": [],
   "source": [
    "class Vocabulary(object):\n",
    "    \"\"\"Class to process text and extract vocabulary for mapping\"\"\"\n",
    "\n",
    "    def __init__(self, token_to_idx=None, add_unk=True, unk_token=\"<UNK>\"):\n",
    "        \"\"\"\n",
    "        Args:\n",
    "            token_to_idx (dict): a pre-existing map of tokens to indices\n",
    "            add_unk (bool): a flag that indicates whether to add the UNK token\n",
    "            unk_token (str): the UNK token to add into the Vocabulary\n",
    "        \"\"\"\n",
    "\n",
    "        if token_to_idx is None:\n",
    "            token_to_idx = {}\n",
    "        self._token_to_idx = token_to_idx\n",
    "\n",
    "        self._idx_to_token = {idx: token \n",
    "                              for token, idx in self._token_to_idx.items()}\n",
    "        \n",
    "        self._add_unk = add_unk\n",
    "        self._unk_token = unk_token\n",
    "        \n",
    "        self.unk_index = -1\n",
    "        if add_unk:\n",
    "            self.unk_index = self.add_token(unk_token) \n",
    "        \n",
    "        \n",
    "    def to_serializable(self):\n",
    "        \"\"\" returns a dictionary that can be serialized \"\"\"\n",
    "        return {'token_to_idx': self._token_to_idx, \n",
    "                'add_unk': self._add_unk, \n",
    "                'unk_token': self._unk_token}\n",
    "\n",
    "    @classmethod\n",
    "    def from_serializable(cls, contents):\n",
    "        \"\"\" instantiates the Vocabulary from a serialized dictionary \"\"\"\n",
    "        return cls(**contents)\n",
    "\n",
    "    def add_token(self, token):\n",
    "        \"\"\"Update mapping dicts based on the token.\n",
    "\n",
    "        Args:\n",
    "            token (str): the item to add into the Vocabulary\n",
    "        Returns:\n",
    "            index (int): the integer corresponding to the token\n",
    "        \"\"\"\n",
    "        if token in self._token_to_idx:\n",
    "            index = self._token_to_idx[token]\n",
    "        else:\n",
    "            index = len(self._token_to_idx)\n",
    "            self._token_to_idx[token] = index\n",
    "            self._idx_to_token[index] = token\n",
    "        return index\n",
    "    \n",
    "    def add_many(self, tokens):\n",
    "        \"\"\"Add a list of tokens into the Vocabulary\n",
    "        \n",
    "        Args:\n",
    "            tokens (list): a list of string tokens\n",
    "        Returns:\n",
    "            indices (list): a list of indices corresponding to the tokens\n",
    "        \"\"\"\n",
    "        return [self.add_token(token) for token in tokens]\n",
    "\n",
    "    def lookup_token(self, token):\n",
    "        \"\"\"Retrieve the index associated with the token \n",
    "          or the UNK index if token isn't present.\n",
    "        \n",
    "        Args:\n",
    "            token (str): the token to look up \n",
    "        Returns:\n",
    "            index (int): the index corresponding to the token\n",
    "        Notes:\n",
    "            `unk_index` needs to be >=0 (having been added into the Vocabulary) \n",
    "              for the UNK functionality \n",
    "        \"\"\"\n",
    "        if self.unk_index >= 0:\n",
    "            return self._token_to_idx.get(token, self.unk_index)\n",
    "        else:\n",
    "            return self._token_to_idx[token]\n",
    "\n",
    "    def lookup_index(self, index):\n",
    "        \"\"\"Return the token associated with the index\n",
    "        \n",
    "        Args: \n",
    "            index (int): the index to look up\n",
    "        Returns:\n",
    "            token (str): the token corresponding to the index\n",
    "        Raises:\n",
    "            KeyError: if the index is not in the Vocabulary\n",
    "        \"\"\"\n",
    "        if index not in self._idx_to_token:\n",
    "            raise KeyError(\"the index (%d) is not in the Vocabulary\" % index)\n",
    "        return self._idx_to_token[index]\n",
    "\n",
    "    def __str__(self):\n",
    "        return \"<Vocabulary(size=%d)>\" % len(self)\n",
    "\n",
    "    def __len__(self):\n",
    "        return len(self._token_to_idx)"
   ]
  },
  {
   "cell_type": "markdown",
   "metadata": {},
   "source": [
    "### The Vectorizer"
   ]
  },
  {
   "cell_type": "code",
   "execution_count": 3,
   "metadata": {
    "code_folding": []
   },
   "outputs": [],
   "source": [
    "class ReviewVectorizer(object):\n",
    "    \"\"\" The Vectorizer which coordinates the Vocabularies and puts them to use\"\"\"\n",
    "    def __init__(self, review_vocab, rating_vocab):\n",
    "        \"\"\"\n",
    "        Args:\n",
    "            review_vocab (Vocabulary): maps words to integers\n",
    "            rating_vocab (Vocabulary): maps class labels to integers\n",
    "        \"\"\"\n",
    "        self.review_vocab = review_vocab\n",
    "        self.rating_vocab = rating_vocab\n",
    "\n",
    "    def vectorize(self, review):\n",
    "        \"\"\"Create a collapsed one-hit vector for the review\n",
    "        \n",
    "        Args:\n",
    "            review (str): the review \n",
    "        Returns:\n",
    "            one_hot (np.ndarray): the collapsed one-hot encoding \n",
    "        \"\"\"\n",
    "        one_hot = np.zeros(len(self.review_vocab), dtype=np.float32)\n",
    "        for token in review.split(\" \"):\n",
    "            #if token not in string.punctuation:\n",
    "            one_hot[self.review_vocab.lookup_token(token)] = 1\n",
    "\n",
    "        return one_hot\n",
    "\n",
    "    @classmethod\n",
    "    def from_dataframe(cls, df, modulenames=[], cutoff=1):\n",
    "        \"\"\"Instantiate the vectorizer from the dataset dataframe\n",
    "        \n",
    "        Args:\n",
    "            df (pandas.DataFrame): the review dataset\n",
    "            cutoff (int): the parameter for frequency-based filtering\n",
    "        Returns:\n",
    "            an instance of the ReviewVectorizer\n",
    "        \"\"\"\n",
    "        review_vocab = Vocabulary(add_unk=True)\n",
    "        rating_vocab = Vocabulary(add_unk=False)\n",
    "        \n",
    "        # Add ratings\n",
    "        for rating in sorted(set(modulenames)):\n",
    "            rating_vocab.add_token(rating)\n",
    "\n",
    "        # Add top words if count > provided count\n",
    "        word_counts = Counter()\n",
    "        # df = list(map(lambda x: list(x), df))\n",
    "        # print(df[0])\n",
    "        for review in df:\n",
    "            arr = review[0].split(' ')\n",
    "            for word in arr:\n",
    "                word_counts[word] += 1\n",
    "               \n",
    "        for word, count in word_counts.items():\n",
    "            if count > cutoff:\n",
    "                review_vocab.add_token(word)\n",
    "  \n",
    "        print('review_vocab: ', review_vocab, 'rating_vocab: ', rating_vocab)\n",
    "        return cls(review_vocab, rating_vocab)\n",
    "\n",
    "    @classmethod\n",
    "    def from_serializable(cls, contents):\n",
    "        \"\"\"Instantiate a ReviewVectorizer from a serializable dictionary\n",
    "        \n",
    "        Args:\n",
    "            contents (dict): the serializable dictionary\n",
    "        Returns:\n",
    "            an instance of the ReviewVectorizer class\n",
    "        \"\"\"\n",
    "        review_vocab = Vocabulary.from_serializable(contents['review_vocab'])\n",
    "        rating_vocab =  Vocabulary.from_serializable(contents['rating_vocab'])\n",
    "\n",
    "        return cls(review_vocab=review_vocab, rating_vocab=rating_vocab)\n",
    "\n",
    "    def to_serializable(self):\n",
    "        \"\"\"Create the serializable dictionary for caching\n",
    "        \n",
    "        Returns:\n",
    "            contents (dict): the serializable dictionary\n",
    "        \"\"\"\n",
    "        return {'review_vocab': self.review_vocab.to_serializable(),\n",
    "                'rating_vocab': self.rating_vocab.to_serializable()}"
   ]
  },
  {
   "cell_type": "code",
   "execution_count": 4,
   "metadata": {},
   "outputs": [],
   "source": [
    "def preprocess_text(text):\n",
    "    text = text.lower()\n",
    "    text = text.replace(u'\\xa0', u' ')\n",
    "    text = re.sub(r\"([，,、&：_|\\\\+;'!?:。；】【-])\", r\" \", text)\n",
    "    text = re.sub(\" \\d \", \" \", text)\n",
    "    seg_list = jieba.cut(text, cut_all=False)\n",
    "    return \" \".join(seg_list)"
   ]
  },
  {
   "cell_type": "markdown",
   "metadata": {},
   "source": [
    "### The Dataset"
   ]
  },
  {
   "cell_type": "code",
   "execution_count": 5,
   "metadata": {
    "code_folding": [
     65
    ]
   },
   "outputs": [],
   "source": [
    "def convert_filepath(filepath):\n",
    "    arr = filepath.split('.')[0].replace('\\\\', '_').split('_')\n",
    "    arr = list(filter(lambda x: len(x)>0, arr))\n",
    "    data = ' '.join(arr)\n",
    "    return data\n",
    "\n",
    "class ReviewDataset(Dataset):\n",
    "    def __init__(self, review_df, vectorizer):\n",
    "        \"\"\"\n",
    "        Args:\n",
    "            review_df (pandas.DataFrame): the dataset\n",
    "            vectorizer (ReviewVectorizer): vectorizer instantiated from dataset\n",
    "        \"\"\"\n",
    "        self.review_df = review_df\n",
    "        self._vectorizer = vectorizer\n",
    "\n",
    "        self.train_df = list(filter(lambda x: x[2] =='train', self.review_df))\n",
    "        self.train_size = len(self.train_df)\n",
    "\n",
    "        self.val_df = list(filter(lambda x: x[2] =='val', self.review_df))\n",
    "        self.validation_size = len(self.val_df)\n",
    "\n",
    "        self.test_df = list(filter(lambda x: x[2] =='test', self.review_df))\n",
    "        self.test_size = len(self.test_df)\n",
    "\n",
    "        self._lookup_dict = {'train': (self.train_df, self.train_size),\n",
    "                             'val': (self.val_df, self.validation_size),\n",
    "                             'test': (self.test_df, self.test_size)}\n",
    "        print('55555555', self.validation_size)\n",
    "        self.set_split('train')\n",
    "\n",
    "    @classmethod\n",
    "    def load_dataset_and_make_vectorizer(cls, review_xlsx):\n",
    "        \"\"\"Load dataset and make a new vectorizer from scratch\n",
    "        \n",
    "        Args:\n",
    "            review_xlsx (str): location of the dataset\n",
    "        Returns:\n",
    "            an instance of ReviewDataset\n",
    "        \"\"\"\n",
    "        df_logs = pd.read_excel(review_xlsx, sheet_name='Sheet2')\n",
    "        df_logs_modulenames = pd.read_excel(review_xlsx, sheet_name='Sheet1')\n",
    "        #df = df[(df['MODULENAME'] == 'BR_AAA') | (df['MODULENAME'] == 'NP_HAL')  |\n",
    "        #        (df['MODULENAME'] == 'RT_NSE')| (df['MODULENAME'] == 'BR_AM')]\n",
    "        logs = df_logs.to_numpy()\n",
    "        modulenames = df_logs_modulenames[\"MODULENAME\"].unique()\n",
    "        print(modulenames)\n",
    "        newlogs = []\n",
    "        for i in range(len(logs)):\n",
    "            one_hot = np.zeros(len(modulenames), dtype=np.float32)\n",
    "            df_modulenames = df_logs_modulenames[(df_logs_modulenames['CHINESE'] == logs[i][0])]\n",
    "            for module_index, module_row in df_modulenames.iterrows():\n",
    "                one_hot[np.where(modulenames == module_row.MODULENAME)[0][0]] = 1\n",
    "            \n",
    "\n",
    "            newlogs.append([preprocess_text(logs[i][0]), one_hot, logs[i][1]])\n",
    "\n",
    "        train_review_df = list(filter(lambda x: x[2] == 'train', newlogs))\n",
    "        return cls(newlogs, ReviewVectorizer.from_dataframe(train_review_df, modulenames))\n",
    "    \n",
    "    @classmethod\n",
    "    def load_dataset_and_load_vectorizer(cls, review_xlsx, vectorizer_filepath):\n",
    "        \"\"\"Load dataset and the corresponding vectorizer. \n",
    "        Used in the case in the vectorizer has been cached for re-use\n",
    "        \n",
    "        Args:\n",
    "            review_xlsx (str): location of the dataset\n",
    "            vectorizer_filepath (str): location of the saved vectorizer\n",
    "        Returns:\n",
    "            an instance of ReviewDataset\n",
    "        \"\"\"\n",
    "        \n",
    "        df = pd.read_excel(review_xlsx)\n",
    "        df = df[(df['MODULENAME'] == 'BR_AAA') | (df['MODULENAME'] == 'NP_HAL') | (df['MODULENAME'] == 'RT_NSE') | \\\n",
    "                 (df['MODULENAME'] =='RTADAPT_FWD_FRAME') | (df['MODULENAME'] =='NP_HAL')]\n",
    "        vectorizer = cls.load_vectorizer_only(vectorizer_filepath)\n",
    "        return cls(df, vectorizer)\n",
    "\n",
    "    @staticmethod\n",
    "    def load_vectorizer_only(vectorizer_filepath):\n",
    "        \"\"\"a static method for loading the vectorizer from file\n",
    "        \n",
    "        Args:\n",
    "            vectorizer_filepath (str): the location of the serialized vectorizer\n",
    "        Returns:\n",
    "            an instance of ReviewVectorizer\n",
    "        \"\"\"\n",
    "        with open(vectorizer_filepath) as fp:\n",
    "            return ReviewVectorizer.from_serializable(json.load(fp))\n",
    "\n",
    "    def save_vectorizer(self, vectorizer_filepath):\n",
    "        \"\"\"saves the vectorizer to disk using json\n",
    "        \n",
    "        Args:\n",
    "            vectorizer_filepath (str): the location to save the vectorizer\n",
    "        \"\"\"\n",
    "        with open(vectorizer_filepath, \"w\") as fp:\n",
    "            json.dump(self._vectorizer.to_serializable(), fp)\n",
    "\n",
    "    def get_vectorizer(self):\n",
    "        \"\"\" returns the vectorizer \"\"\"\n",
    "        return self._vectorizer\n",
    "\n",
    "    def set_split(self, split=\"train\"):\n",
    "        \"\"\" selects the splits in the dataset using a column in the dataframe \n",
    "        \n",
    "        Args:\n",
    "            split (str): one of \"train\", \"val\", or \"test\"\n",
    "        \"\"\"\n",
    "        self._target_split = split\n",
    "        self._target_df, self._target_size = self._lookup_dict[split]\n",
    "\n",
    "    def __len__(self):\n",
    "        return self._target_size\n",
    "\n",
    "    def __getitem__(self, index):\n",
    "        \"\"\"the primary entry point method for PyTorch datasets\n",
    "        \n",
    "        Args:\n",
    "            index (int): the index to the data point \n",
    "        Returns:\n",
    "            a dictionary holding the data point's features (x_data) and label (y_target)\n",
    "        \"\"\"\n",
    "        row = self._target_df[index]\n",
    "        text_vector = \\\n",
    "            self._vectorizer.vectorize(row[0])\n",
    "\n",
    "        return {'x_data': text_vector,\n",
    "                'y_target': self._target_df[index][1]}\n",
    "\n",
    "    def get_num_batches(self, batch_size):\n",
    "        \"\"\"Given a batch size, return the number of batches in the dataset\n",
    "        \n",
    "        Args:\n",
    "            batch_size (int)\n",
    "        Returns:\n",
    "            number of batches in the dataset\n",
    "        \"\"\"\n",
    "        return len(self) // batch_size  \n",
    "    \n",
    "def generate_batches(dataset, batch_size, shuffle=True,\n",
    "                     drop_last=True, device=\"cpu\", debug=False):\n",
    "    \"\"\"\n",
    "    A generator function which wraps the PyTorch DataLoader. It will \n",
    "      ensure each tensor is on the write device location.\n",
    "    \"\"\"\n",
    "    dataloader = DataLoader(dataset=dataset, batch_size=batch_size,\n",
    "                            shuffle=shuffle, drop_last=drop_last)\n",
    "\n",
    "    for data_dict in dataloader:\n",
    "        out_data_dict = {}\n",
    "        for name, tensor in data_dict.items():\n",
    "            out_data_dict[name] = data_dict[name].to(device)\n",
    "        yield out_data_dict"
   ]
  },
  {
   "cell_type": "markdown",
   "metadata": {},
   "source": [
    "## The Model: ReviewClassifier"
   ]
  },
  {
   "cell_type": "code",
   "execution_count": 6,
   "metadata": {
    "code_folding": []
   },
   "outputs": [],
   "source": [
    "class ReviewClassifier(nn.Module):\n",
    "    \"\"\" a simple perceptron based classifier \"\"\"\n",
    "    def __init__(self, num_features, num_classes):\n",
    "        \"\"\"\n",
    "        Args:\n",
    "            num_features (int): the size of the input feature vector\n",
    "        \"\"\"\n",
    "        super(ReviewClassifier, self).__init__()\n",
    "        self.fc1 = nn.Sequential(\n",
    "            nn.Linear(in_features=num_features, out_features=num_features),\n",
    "            nn.ReLU(),\n",
    "            nn.Linear(num_features, num_classes)\n",
    "        )\n",
    "\n",
    "    def forward(self, x_in, apply_sigmoid=False):\n",
    "        \"\"\"The forward pass of the classifier\n",
    "        \n",
    "        Args:\n",
    "            x_in (torch.Tensor): an input data tensor. \n",
    "                x_in.shape should be (batch, num_features)\n",
    "            apply_sigmoid (bool): a flag for the sigmoid activation\n",
    "                should be false if used with the Cross Entropy losses\n",
    "        Returns:\n",
    "            the resulting tensor. tensor.shape should be (batch,)\n",
    "        \"\"\"\n",
    "        y_out = self.fc1(x_in)  #.squeeze()\n",
    "#         if apply_sigmoid:\n",
    "#             y_out = torch.sigmoid(y_out)\n",
    "\n",
    "        return y_out"
   ]
  },
  {
   "cell_type": "markdown",
   "metadata": {},
   "source": [
    "## Training Routine"
   ]
  },
  {
   "cell_type": "markdown",
   "metadata": {},
   "source": [
    "### Helper functions"
   ]
  },
  {
   "cell_type": "code",
   "execution_count": 79,
   "metadata": {
    "code_folding": []
   },
   "outputs": [],
   "source": [
    "def make_train_state(args):\n",
    "    return {'stop_early': False,\n",
    "            'early_stopping_step': 0,\n",
    "            'early_stopping_best_val': 1e8,\n",
    "            'learning_rate': args.learning_rate,\n",
    "            'epoch_index': 0,\n",
    "            'train_loss': [],\n",
    "            'train_acc': [],\n",
    "            'val_loss': [],\n",
    "            'val_acc': [],\n",
    "            'test_loss': -1,\n",
    "            'test_acc': -1,\n",
    "            'model_filename': args.model_state_file}\n",
    "\n",
    "def update_train_state(args, model, train_state):\n",
    "    \"\"\"Handle the training state updates.\n",
    "\n",
    "    Components:\n",
    "     - Early Stopping: Prevent overfitting.\n",
    "     - Model Checkpoint: Model is saved if the model is better\n",
    "\n",
    "    :param args: main arguments\n",
    "    :param model: model to train\n",
    "    :param train_state: a dictionary representing the training state values\n",
    "    :returns:\n",
    "        a new train_state\n",
    "    \"\"\"\n",
    "\n",
    "    # Save one model at least\n",
    "    if train_state['epoch_index'] == 0:\n",
    "        torch.save(model.state_dict(), train_state['model_filename'])\n",
    "        train_state['stop_early'] = False\n",
    "\n",
    "    # Save model if performance improved\n",
    "    elif train_state['epoch_index'] >= 1:\n",
    "        loss_tm1, loss_t = train_state['val_loss'][-2:]\n",
    "\n",
    "        # If loss worsened\n",
    "        if loss_t >= train_state['early_stopping_best_val']:\n",
    "            # Update step\n",
    "            train_state['early_stopping_step'] += 1\n",
    "        # Loss decreased\n",
    "        else:\n",
    "            # Save the best model\n",
    "            if loss_t < train_state['early_stopping_best_val']:\n",
    "                torch.save(model.state_dict(), train_state['model_filename'])\n",
    "\n",
    "            # Reset early stopping step\n",
    "            train_state['early_stopping_step'] = 0\n",
    "\n",
    "        # Stop early ?\n",
    "        train_state['stop_early'] = \\\n",
    "            train_state['early_stopping_step'] >= args.early_stopping_criteria\n",
    "\n",
    "    return train_state\n",
    "\n",
    "def compute_accuracy(y_pred, y_target):\n",
    "    n_correct = 0\n",
    "    check_elements = y_target.detach().numpy()\n",
    "    probability_values, indices = torch.topk(y_pred, k=3)\n",
    "    arr = indices.detach().numpy()\n",
    "    for i in range(len(arr)):\n",
    "        for ind in arr[i]:\n",
    "            if check_elements[i][ind] > 0.99:\n",
    "                n_correct = n_correct + 1\n",
    "                break\n",
    "\n",
    "    return n_correct / len(arr) * 100"
   ]
  },
  {
   "cell_type": "markdown",
   "metadata": {},
   "source": [
    "#### General utilities"
   ]
  },
  {
   "cell_type": "code",
   "execution_count": 46,
   "metadata": {},
   "outputs": [],
   "source": [
    "def set_seed_everywhere(seed, cuda):\n",
    "    np.random.seed(seed)\n",
    "    torch.manual_seed(seed)\n",
    "    if cuda:\n",
    "        torch.cuda.manual_seed_all(seed)\n",
    "\n",
    "def handle_dirs(dirpath):\n",
    "    if not os.path.exists(dirpath):\n",
    "        os.makedirs(dirpath)"
   ]
  },
  {
   "cell_type": "markdown",
   "metadata": {},
   "source": [
    "### Settings and some prep work"
   ]
  },
  {
   "cell_type": "code",
   "execution_count": 47,
   "metadata": {},
   "outputs": [
    {
     "name": "stdout",
     "output_type": "stream",
     "text": [
      "Expanded filepaths: \n",
      "\tmodel_storage/vectorizer.json\n",
      "\tmodel_storage/model.pth\n",
      "Using CUDA: False\n"
     ]
    }
   ],
   "source": [
    "args = Namespace(\n",
    "    # Data and Path information\n",
    "    frequency_cutoff=0,\n",
    "    model_state_file='model.pth',\n",
    "    review_xlsx='data/chinese_modulenames.xlsx',\n",
    "    save_dir='model_storage/',\n",
    "    vectorizer_file='vectorizer.json',\n",
    "    # No Model hyper parameters\n",
    "    # Training hyper parameters\n",
    "    batch_size=128,\n",
    "    early_stopping_criteria=5,\n",
    "    learning_rate=0.001,\n",
    "    num_epochs=10,\n",
    "    seed=1337,\n",
    "    # Runtime options\n",
    "    catch_keyboard_interrupt=True,\n",
    "    cuda=True,\n",
    "    expand_filepaths_to_save_dir=True,\n",
    "    reload_from_files=False,\n",
    ")\n",
    "\n",
    "if args.expand_filepaths_to_save_dir:\n",
    "    args.vectorizer_file = os.path.join(args.save_dir,\n",
    "                                        args.vectorizer_file)\n",
    "\n",
    "    args.model_state_file = os.path.join(args.save_dir,\n",
    "                                         args.model_state_file)\n",
    "    \n",
    "    print(\"Expanded filepaths: \")\n",
    "    print(\"\\t{}\".format(args.vectorizer_file))\n",
    "    print(\"\\t{}\".format(args.model_state_file))\n",
    "    \n",
    "# Check CUDA\n",
    "if not torch.cuda.is_available():\n",
    "    args.cuda = False\n",
    "\n",
    "print(\"Using CUDA: {}\".format(args.cuda))\n",
    "\n",
    "args.device = torch.device(\"cuda\" if args.cuda else \"cpu\")\n",
    "\n",
    "# Set seed for reproducibility\n",
    "set_seed_everywhere(args.seed, args.cuda)\n",
    "\n",
    "# handle dirs\n",
    "handle_dirs(args.save_dir)"
   ]
  },
  {
   "cell_type": "code",
   "execution_count": 48,
   "metadata": {},
   "outputs": [
    {
     "name": "stdout",
     "output_type": "stream",
     "text": [
      "D:\\Data\\worktests\n"
     ]
    }
   ],
   "source": [
    "import os\n",
    "print(os.getcwd())"
   ]
  },
  {
   "cell_type": "markdown",
   "metadata": {},
   "source": [
    "### Initializations"
   ]
  },
  {
   "cell_type": "code",
   "execution_count": 49,
   "metadata": {
    "scrolled": true
   },
   "outputs": [
    {
     "name": "stdout",
     "output_type": "stream",
     "text": [
      "Loading dataset and creating vectorizer\n",
      "['BOARD_SRV' 'BR_AAA' 'BR_AGENT' 'BR_AM' 'BR_DHCP' 'BR_DHCPV6' 'BR_EAPOL'\n",
      " 'BR_L2TP' 'BR_ND' 'BR_RADIUS' 'BR_RUI' 'BR_SRVCFG' 'BR_UM' 'BR_V5ADA'\n",
      " 'BR_VSM' 'BRAS_FEI' 'BUILD' 'CANBUS_CMU' 'CGN' 'CINE' 'CLOUD_隧道' 'CU RES'\n",
      " 'CU V5ADA' 'DATATYPE' 'DN_CLUSTER' 'DN_FEI_DOP' 'DN_FEI_LIB' 'DN_FEI_SRV'\n",
      " 'DN_FEISWAGT_FAB' 'DRV_BOX_XTN_LLT' 'DRV_DOX_XTN' 'HQOS_58X5' 'HQOS_ATN'\n",
      " 'HQOS_BASE' 'HQOS_BRAS' 'HQOS_INCLUDE' 'HQOS_SR' 'HSTM' 'HSTM_5813'\n",
      " 'HSTM_58x5' 'HSTM_ATN' 'HSTM_include' 'HSTM_XFIC' 'LLT_SEC' 'LSPIC_CES'\n",
      " 'MPE' 'MSU' 'NP_HAL' 'PACC' 'PRODUCT_INCLUDE' 'PTN_FIM' 'PTN_HSTM'\n",
      " 'PTN_XCS_FEISWAGT' 'QOS_FWD' 'QOS_INCLUDE' 'RT_NSE' 'RTADAPT_EVPN'\n",
      " 'RTADAPT_FIM' 'RTADAPT_FWD_FRAME' 'RTADAPT_L2VPN' 'RTADAPT_L3_FWD'\n",
      " 'RTADAPT_L3_FWD_NHP' 'RTADAPT_L3_FWD_RE4' 'RTADAPT_MC' 'RTADAPT_MC_COMM'\n",
      " 'RTADAPT_MC_FWD' 'RTADAPT_MC_FWD_L2' 'RTADAPT_MC_FWD_L3' 'RTADAPT_MPLS'\n",
      " 'RTADAPT_MPLS_COMMON' 'RTADAPT_MPLS_FWD_P2MP' 'RTADAPT_OAM_FWD_BFD'\n",
      " 'RTADAPT_OAM_FWD_ETHOAM' 'RTADAPT_VSM_CGN_DOPVFP' 'RTDEVM_BOARD'\n",
      " 'RTDEVM_LSPIC' 'RTDEVM_MPE' 'RTDEVM_MPE_MechMgmt' 'RTDEVM_PIC'\n",
      " 'SERVICE_DEVSEC' 'SERVICE_NETSEC' 'SERVICE_PPP' 'SERVICE_SEC' 'SIG_PLAT'\n",
      " 'SIG_SRV' 'SR_FRAME_DRV' 'UPBROKER' 'VNE_CU' 'VSM']\n",
      "review_vocab:  <Vocabulary(size=7599)> rating_vocab:  <Vocabulary(size=89)>\n",
      "55555555 2968\n"
     ]
    }
   ],
   "source": [
    "if args.reload_from_files:\n",
    "    # training from a checkpoint\n",
    "    print(\"Loading dataset and vectorizer\")\n",
    "    dataset = ReviewDataset.load_dataset_and_load_vectorizer(args.review_xlsx,\n",
    "                                                            args.vectorizer_file)\n",
    "else:\n",
    "    print(\"Loading dataset and creating vectorizer\")\n",
    "    # create dataset and vectorizer\n",
    "    dataset = ReviewDataset.load_dataset_and_make_vectorizer(args.review_xlsx)\n",
    "    dataset.save_vectorizer(args.vectorizer_file)    \n",
    "vectorizer = dataset.get_vectorizer()\n",
    "\n",
    "\n",
    "\n",
    "classifier = ReviewClassifier(num_features=len(vectorizer.review_vocab), num_classes=len(vectorizer.rating_vocab))"
   ]
  },
  {
   "cell_type": "markdown",
   "metadata": {},
   "source": [
    "### Training loop"
   ]
  },
  {
   "cell_type": "code",
   "execution_count": null,
   "metadata": {
    "code_folding": [
     30
    ],
    "scrolled": false
   },
   "outputs": [
    {
     "name": "stderr",
     "output_type": "stream",
     "text": [
      "d:\\data\\worktests\\tensor_jypyter\\venv\\lib\\site-packages\\ipykernel_launcher.py:13: TqdmDeprecationWarning: This function will be removed in tqdm==5.0.0\n",
      "Please use `tqdm.notebook.tqdm` instead of `tqdm.tqdm_notebook`\n",
      "  del sys.path[0]\n"
     ]
    },
    {
     "data": {
      "application/vnd.jupyter.widget-view+json": {
       "model_id": "92b6f808954a43209b536ddc60433406",
       "version_major": 2,
       "version_minor": 0
      },
      "text/plain": [
       "HBox(children=(FloatProgress(value=0.0, description='training routine', max=10.0, style=ProgressStyle(descript…"
      ]
     },
     "metadata": {},
     "output_type": "display_data"
    },
    {
     "name": "stderr",
     "output_type": "stream",
     "text": [
      "d:\\data\\worktests\\tensor_jypyter\\venv\\lib\\site-packages\\ipykernel_launcher.py:19: TqdmDeprecationWarning: This function will be removed in tqdm==5.0.0\n",
      "Please use `tqdm.notebook.tqdm` instead of `tqdm.tqdm_notebook`\n"
     ]
    },
    {
     "data": {
      "application/vnd.jupyter.widget-view+json": {
       "model_id": "a2407a0577574a1b80874218df0eeb1b",
       "version_major": 2,
       "version_minor": 0
      },
      "text/plain": [
       "HBox(children=(FloatProgress(value=0.0, description='split=train', max=107.0, style=ProgressStyle(description_…"
      ]
     },
     "metadata": {},
     "output_type": "display_data"
    },
    {
     "name": "stderr",
     "output_type": "stream",
     "text": [
      "d:\\data\\worktests\\tensor_jypyter\\venv\\lib\\site-packages\\ipykernel_launcher.py:24: TqdmDeprecationWarning: This function will be removed in tqdm==5.0.0\n",
      "Please use `tqdm.notebook.tqdm` instead of `tqdm.tqdm_notebook`\n"
     ]
    },
    {
     "data": {
      "application/vnd.jupyter.widget-view+json": {
       "model_id": "1bb44664a18145c18548193ca2e5ce55",
       "version_major": 2,
       "version_minor": 0
      },
      "text/plain": [
       "HBox(children=(FloatProgress(value=0.0, description='split=val', max=23.0, style=ProgressStyle(description_wid…"
      ]
     },
     "metadata": {},
     "output_type": "display_data"
    }
   ],
   "source": [
    "classifier = classifier.to(args.device)\n",
    "\n",
    "loss_func = nn.MultiLabelSoftMarginLoss()\n",
    "optimizer = optim.Adam(classifier.parameters(), lr=args.learning_rate)\n",
    "scheduler = optim.lr_scheduler.ReduceLROnPlateau(optimizer=optimizer,\n",
    "                                                 mode='min', factor=0.5,\n",
    "                                                 patience=1)\n",
    "\n",
    "train_state = make_train_state(args)\n",
    "\n",
    "epoch_bar = tqdm_notebook(desc='training routine', \n",
    "                          total=args.num_epochs,\n",
    "                          position=0)\n",
    "\n",
    "dataset.set_split('train')\n",
    "train_bar = tqdm_notebook(desc='split=train',\n",
    "                          total=dataset.get_num_batches(args.batch_size), \n",
    "                          position=1, \n",
    "                          leave=True)\n",
    "dataset.set_split('val')\n",
    "val_bar = tqdm_notebook(desc='split=val',\n",
    "                        total=dataset.get_num_batches(args.batch_size), \n",
    "                        position=1, \n",
    "                        leave=True)\n",
    "\n",
    "try:\n",
    "    for epoch_index in range(args.num_epochs):\n",
    "        train_state['epoch_index'] = epoch_index\n",
    "\n",
    "        # Iterate over training dataset\n",
    "\n",
    "        # setup: batch generator, set loss and acc to 0, set train mode on\n",
    "        dataset.set_split('train')\n",
    "        batch_generator = generate_batches(dataset, \n",
    "                                           batch_size=args.batch_size, \n",
    "                                           device=args.device)\n",
    "        running_loss = 0.0\n",
    "        running_acc = 0.0\n",
    "        classifier.train()\n",
    "\n",
    "        for batch_index, batch_dict in enumerate(batch_generator):\n",
    "            # the training routine is these 5 steps:\n",
    "\n",
    "            # --------------------------------------\n",
    "            # step 1. zero the gradients\n",
    "            optimizer.zero_grad()\n",
    "\n",
    "            # step 2. compute the output\n",
    "            y_pred = classifier(x_in=batch_dict['x_data'].float())\n",
    "            # step 3. compute the loss\n",
    "            # print('555555', y_pred, batch_dict['y_target'].float(), '333333', batch_dict['x_data'].float())\n",
    "            loss = loss_func(y_pred, batch_dict['y_target'].float())\n",
    "            #loss = loss_func(torch.unsqueeze(y_pred, 0), torch.unsqueeze(batch_dict['y_target'].float(), 0))\n",
    "            loss_t = loss.item()\n",
    "            running_loss += (loss_t - running_loss) / (batch_index + 1)\n",
    "\n",
    "            # step 4. use loss to produce gradients\n",
    "            loss.backward()\n",
    "\n",
    "            # step 5. use optimizer to take gradient step\n",
    "            optimizer.step()\n",
    "            # -----------------------------------------\n",
    "            # compute the accuracy\n",
    "            acc_t = compute_accuracy(y_pred, batch_dict['y_target'])\n",
    "            running_acc += (acc_t - running_acc) / (batch_index + 1)\n",
    "\n",
    "            # update bar\n",
    "            train_bar.set_postfix(loss=running_loss, \n",
    "                                  acc=running_acc, \n",
    "                                  epoch=epoch_index)\n",
    "            train_bar.update()\n",
    "\n",
    "        train_state['train_loss'].append(running_loss)\n",
    "        train_state['train_acc'].append(running_acc)\n",
    "\n",
    "        # Iterate over val dataset\n",
    "\n",
    "        # setup: batch generator, set loss and acc to 0; set eval mode on\n",
    "        dataset.set_split('val')\n",
    "        batch_generator = generate_batches(dataset, \n",
    "                                           batch_size=args.batch_size, \n",
    "                                           device=args.device,\n",
    "                                           debug=True)\n",
    "        running_loss = 0.\n",
    "        running_acc = 0.\n",
    "        classifier.eval()\n",
    "\n",
    "        for batch_index, batch_dict in enumerate(batch_generator):\n",
    "\n",
    "            # compute the output\n",
    "            y_pred = classifier(x_in=batch_dict['x_data'].float())\n",
    "\n",
    "            # step 3. compute the loss\n",
    "            loss = loss_func(y_pred, batch_dict['y_target'].float())\n",
    "            \n",
    "            loss_t = loss.item()\n",
    "            running_loss += (loss_t - running_loss) / (batch_index + 1)\n",
    "\n",
    "            # compute the accuracy\n",
    "            acc_t = compute_accuracy(y_pred, batch_dict['y_target'])\n",
    "            running_acc += (acc_t - running_acc) / (batch_index + 1)\n",
    "            \n",
    "            val_bar.set_postfix(loss=running_loss, \n",
    "                                acc=running_acc, \n",
    "                                epoch=epoch_index)\n",
    "            val_bar.update()\n",
    "\n",
    "        train_state['val_loss'].append(running_loss)\n",
    "        train_state['val_acc'].append(running_acc)\n",
    "\n",
    "        train_state = update_train_state(args=args, model=classifier,\n",
    "                                         train_state=train_state)\n",
    "\n",
    "        scheduler.step(train_state['val_loss'][-1])\n",
    "\n",
    "        train_bar.n = 0\n",
    "        val_bar.n = 0\n",
    "        epoch_bar.update()\n",
    "\n",
    "        if train_state['stop_early']:\n",
    "            print('Stopped early!!!!')\n",
    "            break\n",
    "\n",
    "    print('Finished')\n",
    "\n",
    "except KeyboardInterrupt:\n",
    "    print(\"Exiting loop\")"
   ]
  },
  {
   "cell_type": "code",
   "execution_count": 14,
   "metadata": {},
   "outputs": [
    {
     "name": "stdout",
     "output_type": "stream",
     "text": [
      "0 BOARD_SRV\n",
      "1 BRAS_FEI\n",
      "2 BR_AAA\n",
      "3 BR_AGENT\n",
      "4 BR_AM\n",
      "5 BR_DHCP\n",
      "6 BR_DHCPV6\n",
      "7 BR_EAPOL\n",
      "8 BR_L2TP\n",
      "9 BR_ND\n",
      "10 BR_RADIUS\n",
      "11 BR_RUI\n",
      "12 BR_SRVCFG\n",
      "13 BR_UM\n",
      "14 BR_V5ADA\n",
      "15 BR_VSM\n",
      "16 BUILD\n",
      "17 CANBUS_CMU\n",
      "18 CGN\n",
      "19 CINE\n",
      "20 CLOUD_隧道\n",
      "21 CU RES\n",
      "22 CU V5ADA\n",
      "23 DATATYPE\n",
      "24 DN_CLUSTER\n",
      "25 DN_FEISWAGT_FAB\n",
      "26 DN_FEI_DOP\n",
      "27 DN_FEI_LIB\n",
      "28 DN_FEI_SRV\n",
      "29 DRV_BOX_XTN_LLT\n",
      "30 DRV_DOX_XTN\n",
      "31 HQOS_58X5\n",
      "32 HQOS_ATN\n",
      "33 HQOS_BASE\n",
      "34 HQOS_BRAS\n",
      "35 HQOS_INCLUDE\n",
      "36 HQOS_SR\n",
      "37 HSTM\n",
      "38 HSTM_5813\n",
      "39 HSTM_58x5\n",
      "40 HSTM_ATN\n",
      "41 HSTM_XFIC\n",
      "42 HSTM_include\n",
      "43 LLT_SEC\n",
      "44 LSPIC_CES\n",
      "45 MPE\n",
      "46 MSU\n",
      "47 NP_HAL\n",
      "48 PACC\n",
      "49 PRODUCT_INCLUDE\n",
      "50 PTN_FIM\n",
      "51 PTN_HSTM\n",
      "52 PTN_XCS_FEISWAGT\n",
      "53 QOS_FWD\n",
      "54 QOS_INCLUDE\n",
      "55 RTADAPT_EVPN\n",
      "56 RTADAPT_FIM\n",
      "57 RTADAPT_FWD_FRAME\n",
      "58 RTADAPT_L2VPN\n",
      "59 RTADAPT_L3_FWD\n",
      "60 RTADAPT_L3_FWD_NHP\n",
      "61 RTADAPT_L3_FWD_RE4\n",
      "62 RTADAPT_MC\n",
      "63 RTADAPT_MC_COMM\n",
      "64 RTADAPT_MC_FWD\n",
      "65 RTADAPT_MC_FWD_L2\n",
      "66 RTADAPT_MC_FWD_L3\n",
      "67 RTADAPT_MPLS\n",
      "68 RTADAPT_MPLS_COMMON\n",
      "69 RTADAPT_MPLS_FWD_P2MP\n",
      "70 RTADAPT_OAM_FWD_BFD\n",
      "71 RTADAPT_OAM_FWD_ETHOAM\n",
      "72 RTADAPT_VSM_CGN_DOPVFP\n",
      "73 RTDEVM_BOARD\n",
      "74 RTDEVM_LSPIC\n",
      "75 RTDEVM_MPE\n",
      "76 RTDEVM_MPE_MechMgmt\n",
      "77 RTDEVM_PIC\n",
      "78 RT_NSE\n",
      "79 SERVICE_DEVSEC\n",
      "80 SERVICE_NETSEC\n",
      "81 SERVICE_PPP\n",
      "82 SERVICE_SEC\n",
      "83 SIG_PLAT\n",
      "84 SIG_SRV\n",
      "85 SR_FRAME_DRV\n",
      "86 UPBROKER\n",
      "87 VNE_CU\n",
      "88 VSM\n"
     ]
    }
   ],
   "source": [
    "index = 0\n",
    "for i in vectorizer.rating_vocab._token_to_idx:\n",
    "    print(index, i)\n",
    "    index = index + 1"
   ]
  },
  {
   "cell_type": "code",
   "execution_count": 16,
   "metadata": {},
   "outputs": [],
   "source": [
    "# compute the loss & accuracy on the test set using the best available model\n",
    "\n",
    "classifier.load_state_dict(torch.load(train_state['model_filename']))\n",
    "classifier = classifier.to(args.device)\n",
    "\n",
    "dataset.set_split('test')\n",
    "batch_generator = generate_batches(dataset, \n",
    "                                   batch_size=args.batch_size, \n",
    "                                   device=args.device)\n",
    "running_loss = 0.\n",
    "running_acc = 0.\n",
    "classifier.eval()\n",
    "\n",
    "for batch_index, batch_dict in enumerate(batch_generator):\n",
    "    # compute the output\n",
    "    y_pred = classifier(x_in=batch_dict['x_data'].float())\n",
    "\n",
    "    # compute the loss\n",
    "    # loss = loss_func(y_pred, batch_dict['y_target'].float())\n",
    "    loss = loss_func(torch.unsqueeze(y_pred, 0), torch.unsqueeze(batch_dict['y_target'].float(), 0))\n",
    "    loss_t = loss.item()\n",
    "    running_loss += (loss_t - running_loss) / (batch_index + 1)\n",
    "\n",
    "    # compute the accuracy\n",
    "    acc_t = compute_accuracy(y_pred, batch_dict['y_target'])\n",
    "    running_acc += (acc_t - running_acc) / (batch_index + 1)\n",
    "\n",
    "train_state['test_loss'] = running_loss\n",
    "train_state['test_acc'] = running_acc"
   ]
  },
  {
   "cell_type": "code",
   "execution_count": 17,
   "metadata": {},
   "outputs": [
    {
     "name": "stdout",
     "output_type": "stream",
     "text": [
      "Test loss: 0.060\n",
      "Test Accuracy: 57.17\n"
     ]
    }
   ],
   "source": [
    "print(\"Test loss: {:.3f}\".format(train_state['test_loss']))\n",
    "print(\"Test Accuracy: {:.2f}\".format(train_state['test_acc']))"
   ]
  },
  {
   "cell_type": "markdown",
   "metadata": {},
   "source": [
    "### Inference"
   ]
  },
  {
   "cell_type": "code",
   "execution_count": 43,
   "metadata": {},
   "outputs": [],
   "source": [
    "def predict_rating(review, classifier, vectorizer, decision_threshold=0.5):\n",
    "    \"\"\"Predict the rating of a review\n",
    "    \n",
    "    Args:\n",
    "        review (str): the text of the review\n",
    "        classifier (ReviewClassifier): the trained model\n",
    "        vectorizer (ReviewVectorizer): the corresponding vectorizer\n",
    "        decision_threshold (float): The numerical boundary which separates the rating classes\n",
    "    \"\"\"\n",
    "    review = preprocess_text(review)\n",
    "    \n",
    "    vectorized_review = torch.tensor(vectorizer.vectorize(review))\n",
    "    result = classifier(vectorized_review.view(1, -1))\n",
    "    \n",
    "    probability_values, indices = torch.topk(result, k=3)\n",
    "    #print(probability_values, indices)\n",
    "    arr = indices.detach().numpy()[0]\n",
    "    print(probability_values)\n",
    "    result = np.where(arr[0] == np.amax(arr[0]))\n",
    "    return list(map(lambda x: vectorizer.rating_vocab.lookup_index(x), arr))"
   ]
  },
  {
   "cell_type": "code",
   "execution_count": 44,
   "metadata": {},
   "outputs": [
    {
     "name": "stdout",
     "output_type": "stream",
     "text": [
      "tensor([[0.6625, 0.6194, 0.3815]], grad_fn=<TopkBackward>)\n",
      "【NE9000-20 4T网板项目质量加固】迭代4共1个问题：接口板在反复复位 -> ['HSTM_include', 'PRODUCT_INCLUDE', 'DN_FEI_LIB']\n"
     ]
    }
   ],
   "source": [
    "test_review = \"【NE9000-20 4T网板项目质量加固】迭代4共1个问题：接口板在反复复位\"\n",
    "\n",
    "classifier = classifier.cpu()\n",
    "prediction = predict_rating(test_review, classifier, vectorizer, decision_threshold=0.5)\n",
    "print(\"{} -> {}\".format(test_review, prediction))"
   ]
  },
  {
   "cell_type": "code",
   "execution_count": 20,
   "metadata": {},
   "outputs": [
    {
     "name": "stdout",
     "output_type": "stream",
     "text": [
      "[[ -5.683983  -11.195354  -10.33557    -8.925193   -9.138255  -10.206052\n",
      "   -8.748894   -8.52062    -9.011398  -10.319228   -9.330404   -8.861274\n",
      "   -8.979603   -9.941594  -10.552866   -6.9443526  -2.7198763  -5.8400826\n",
      "   -7.8663416  -5.818473   -9.797239   -6.348576   -9.382404   -7.0785055\n",
      "   -4.3892856   1.4304588   2.0672429   1.9073597  -4.732454   -5.8213253\n",
      "   -6.2882543   2.725528   -3.6788435   1.6877366  -5.5861635   1.3150979\n",
      "    2.3558593  -2.6145806  -4.985987   -2.6565804   1.5851771   1.8306587\n",
      "   -3.7807012  -6.5290575  -4.069283   -7.9857197  -6.6831017  -3.6502297\n",
      "  -10.427895   -4.8502426  -4.5491266  -3.1332355  -6.126678   -7.225553\n",
      "   -4.219663   -6.2974234  -6.71826     2.2310271  -5.210906   -5.3782635\n",
      "   -7.3134236  -6.650094   -7.7892456  -5.6581135  -6.6780763  -7.4787946\n",
      "   -8.357493   -7.081671   -5.9305563  -5.207556   -6.9396815  -4.6199484\n",
      "   -5.7456074  -7.5598683  -6.7381506  -7.987842   -5.409241   -5.9615316\n",
      "    0.7967558  -5.2594733  -7.3066993  -8.185964   -5.901009   -6.6878414\n",
      "   -7.697144   -4.924981   -9.079688  -10.385748   -5.670292 ]]\n",
      "【V8R11C00-1.6T集群-ETM验收】复位单板后，蛇形流量不能恢复 ，流量在ETM上丢弃 -> HQOS_58X5\n"
     ]
    }
   ],
   "source": [
    "test_review = \"【V8R11C00-1.6T集群-ETM验收】复位单板后，蛇形流量不能恢复 ，流量在ETM上丢弃\"\n",
    "\n",
    "classifier = classifier.cpu()\n",
    "prediction = predict_rating(test_review, classifier, vectorizer, decision_threshold=0.5)\n",
    "print(\"{} -> {}\".format(test_review, prediction))"
   ]
  },
  {
   "cell_type": "code",
   "execution_count": 22,
   "metadata": {},
   "outputs": [
    {
     "name": "stdout",
     "output_type": "stream",
     "text": [
      "[[-13.396498  -14.693869  -18.773293  -15.355652  -15.775295  -16.63993\n",
      "  -12.144239  -14.517101  -19.989897  -13.151781  -12.359987  -17.186718\n",
      "  -19.466278  -14.588598  -16.21342   -10.4559765 -10.216921  -16.772469\n",
      "  -14.914834  -13.811617  -16.1783    -13.400829  -13.621397  -11.46537\n",
      "  -11.964618  -12.636906  -13.763545  -14.4224615 -14.357431  -10.620991\n",
      "   -9.8693    -14.415661  -14.410187  -15.793966  -14.433962  -15.559462\n",
      "  -17.499044  -12.742553  -11.380359  -14.111014  -14.243823  -15.773798\n",
      "  -15.133264   -4.837417  -13.247497  -12.53637    -7.6444044  -7.52801\n",
      "  -17.06573   -10.158468  -16.282888  -10.581866  -15.857925   -4.8026342\n",
      "   -9.697693  -14.550408  -15.342146  -18.559137  -10.1794615  -9.32579\n",
      "  -12.545874  -13.857756  -11.115072  -12.216713  -15.331051  -12.108533\n",
      "  -12.383993  -11.615198  -14.08577   -13.449458  -13.153265  -11.506936\n",
      "   -9.593763  -15.080893   -8.360514  -10.437021  -12.522592  -15.3922\n",
      "  -10.913508   -2.984716   -1.5332694 -12.980529   -6.3252153  -9.788419\n",
      "   -6.8370233  -9.939788  -18.818792  -17.166468  -15.551658 ]]\n",
      "qppb策略绑定car动作，配置为双桶，yellow报文设置为pass，打匹配的报文，然后覆盖式修改car动作，配置为单桶，打匹配的报文，查统计计数，yellow报文历史统计计数发生迁移，pass统计计数不准确。 -> SERVICE_NETSEC\n"
     ]
    }
   ],
   "source": [
    "test_review = \"qppb策略绑定car动作，配置为双桶，yellow报文设置为pass，打匹配的报文，然后覆盖式修改car动作，配置为单桶，打匹配的报文，查统计计数，yellow报文历史统计计数发生迁移，pass统计计数不准确。\"\n",
    "\n",
    "classifier = classifier.cpu()\n",
    "prediction = predict_rating(test_review, classifier, vectorizer, decision_threshold=0.5)\n",
    "print(\"{} -> {}\".format(test_review, prediction))"
   ]
  },
  {
   "cell_type": "markdown",
   "metadata": {},
   "source": [
    "### Interpretability"
   ]
  },
  {
   "cell_type": "code",
   "execution_count": 21,
   "metadata": {},
   "outputs": [
    {
     "data": {
      "text/plain": [
       "torch.Size([89, 7599])"
      ]
     },
     "execution_count": 21,
     "metadata": {},
     "output_type": "execute_result"
    }
   ],
   "source": [
    "classifier.fc1[2].weight.shape"
   ]
  },
  {
   "cell_type": "code",
   "execution_count": 253,
   "metadata": {
    "scrolled": true
   },
   "outputs": [
    {
     "name": "stdout",
     "output_type": "stream",
     "text": [
      "Influential words in Positive Reviews:\n",
      "--------------------------------------\n",
      "arith40\n",
      "pts\n",
      "1213\n",
      "tmr\n",
      "dynclass\n",
      "aaamib\n",
      "ptn\n",
      "hpem\n",
      "stub\n",
      "fe1213\n",
      "ne9000\n",
      "5812\n",
      "fe8855\n",
      "devinfo\n",
      "protected\n",
      "adapter\n",
      "tracelog\n",
      "cmo\n",
      "msg\n",
      "acl5886\n",
      "====\n",
      "\n",
      "\n",
      "\n",
      "Influential words in Negative Reviews:\n",
      "--------------------------------------\n",
      "feiswadmin\n",
      "map\n",
      "fim\n",
      "encap\n",
      "ffa\n",
      "txagt\n",
      "inner\n",
      "mbt\n",
      "faultinfo\n",
      "ase5896\n",
      "msgopt\n",
      "hodp\n",
      "interface\n",
      "arith100\n",
      "se\n",
      "mq1\n",
      "feicommon\n",
      "tm\n",
      "acbc\n",
      "pe5512\n"
     ]
    }
   ],
   "source": [
    "# Sort weights\n",
    "fc1_weights = classifier.fc1[2].weight.detach()[0]\n",
    "_, indices = torch.sort(fc1_weights, dim=0, descending=True)\n",
    "indices = indices.numpy().tolist()\n",
    "\n",
    "# Top 20 words\n",
    "print(\"Influential words in Positive Reviews:\")\n",
    "print(\"--------------------------------------\")\n",
    "for i in range(20):\n",
    "    print(vectorizer.review_vocab.lookup_index(indices[i]))\n",
    "    \n",
    "print(\"====\\n\\n\\n\")\n",
    "\n",
    "# Top 20 negative words\n",
    "print(\"Influential words in Negative Reviews:\")\n",
    "print(\"--------------------------------------\")\n",
    "indices.reverse()\n",
    "for i in range(20):\n",
    "    print(vectorizer.review_vocab.lookup_index(indices[i]))"
   ]
  },
  {
   "cell_type": "code",
   "execution_count": 26,
   "metadata": {},
   "outputs": [
    {
     "name": "stdout",
     "output_type": "stream",
     "text": [
      "迭代四共3个问题 1 br um存的隧道用户由物理槽号修改为逻辑槽号 2 平滑时 最大用户表id增加隧道用户的范围 3 br lns和um平滑时的老化统计计数统计不上 \n"
     ]
    },
    {
     "data": {
      "text/plain": [
       "'迭代 四共 3 个 问题   1   br   um 存 的 隧道 用户 由 物理 槽 号 修改 为 逻辑 槽 号   2   平滑 时   最大 用户 表 id 增加 隧道 用户 的 范围   3   br   lns 和 um 平滑 时 的 老化 统计 计数 统计 不上  '"
      ]
     },
     "execution_count": 26,
     "metadata": {},
     "output_type": "execute_result"
    }
   ],
   "source": [
    "preprocess_text(\"迭代四共3个问题 1、br_um存的隧道用户由物理槽号修改为逻辑槽号；2、平滑时 最大用户表id增加隧道用户的范围；3、br_lns和um平滑时的老化统计计数统计不上；\")"
   ]
  },
  {
   "cell_type": "code",
   "execution_count": 170,
   "metadata": {},
   "outputs": [
    {
     "name": "stdout",
     "output_type": "stream",
     "text": [
      "qos 适配 cx6600 新 单板\n",
      "  v1r5c00   cu 分离 支持 cgn   主动 质量 提升   cp 侧 基于 domain 查询 用户 表时   记录 回显 比较 卡顿 。\n",
      "    v8r9c10   autosave 支持 1mac 多 session 项目 线 提前 介入 测试   ipox   acc 特性   问题 简述   配置 autosave 规格   上线 用户 生成 表项 正常   将 规格 修改 小后   autosave 表项 正常   整机 重启   表项 全部 丢失 。   sdv 测试   v8   bng   autosave 支持 1mac 多 session 项目 迭代 二   定位 时 长   4 小时  \n",
      "  v8r11c00   网络 硬件   sr   atn 卡 驱动 开发 项目     迭代 十二   m2k   b 合入 主线 b182 版本 后   不 注册   需要 修改 。\n",
      "  fim 质量 提升   m2k   pst 表不 下发\n"
     ]
    }
   ],
   "source": [
    "arr = np.array([['qos 适配 cx6600 新 单板', np.array([0., 1., 1., 1.]), 'train'], ['  v1r5c00   cu 分离 支持 cgn   主动 质量 提升   cp 侧 基于 domain 查询 用户 表时   记录 回显 比较 卡顿 。', np.array([1., 1., 0., 0.]), 'train'], ['    v8r9c10   autosave 支持 1mac 多 session 项目 线 提前 介入 测试   ipox   acc 特性   问题 简述   配置 autosave 规格   上线 用户 生成 表项 正常   将 规格 修改 小后   autosave 表项 正常   整机 重启   表项 全部 丢失 。   sdv 测试   v8   bng   autosave 支持 1mac 多 session 项目 迭代 二   定位 时 长   4 小时  ', np.array([1., 0., 0., 1.]), 'train'], ['  v8r11c00   网络 硬件   sr   atn 卡 驱动 开发 项目     迭代 十二   m2k   b 合入 主线 b182 版本 后   不 注册   需要 修改 。', np.array([0., 0., 1., 1.]), 'train'], ['  fim 质量 提升   m2k   pst 表不 下发', np.array([0., 0., 1., 1.]), 'train']])\n",
    "for el in arr[:,0]:\n",
    "    print(el)"
   ]
  },
  {
   "cell_type": "code",
   "execution_count": 32,
   "metadata": {},
   "outputs": [
    {
     "data": {
      "text/plain": [
       "' '"
      ]
     },
     "execution_count": 32,
     "metadata": {},
     "output_type": "execute_result"
    }
   ],
   "source": [
    "s = \" 7 \"\n",
    "re.sub(\" \\d \", \" \", s)"
   ]
  },
  {
   "cell_type": "markdown",
   "metadata": {},
   "source": [
    "### End"
   ]
  }
 ],
 "metadata": {
  "kernelspec": {
   "display_name": "Python 3",
   "language": "python",
   "name": "python3"
  },
  "language_info": {
   "codemirror_mode": {
    "name": "ipython",
    "version": 3
   },
   "file_extension": ".py",
   "mimetype": "text/x-python",
   "name": "python",
   "nbconvert_exporter": "python",
   "pygments_lexer": "ipython3",
   "version": "3.7.4"
  },
  "toc": {
   "colors": {
    "hover_highlight": "#DAA520",
    "running_highlight": "#FF0000",
    "selected_highlight": "#FFD700"
   },
   "moveMenuLeft": true,
   "nav_menu": {
    "height": "156px",
    "width": "252px"
   },
   "navigate_menu": true,
   "number_sections": true,
   "sideBar": true,
   "threshold": "5",
   "toc_cell": false,
   "toc_section_display": "block",
   "toc_window_display": false
  }
 },
 "nbformat": 4,
 "nbformat_minor": 2
}
