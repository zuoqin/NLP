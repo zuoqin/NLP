{
 "cells": [
  {
   "cell_type": "code",
   "execution_count": 8,
   "metadata": {},
   "outputs": [],
   "source": [
    "from sklearn.cluster import MeanShift"
   ]
  },
  {
   "cell_type": "code",
   "execution_count": 1,
   "metadata": {},
   "outputs": [],
   "source": [
    "import numpy as np\n",
    "import pandas as pd\n",
    "from sklearn.manifold import TSNE\n",
    "from sklearn.manifold import MDS\n",
    "import matplotlib.pyplot as plt\n",
    "import sklearn.datasets\n",
    "def loaddocuments():\n",
    "    rootdir = 'D:\\\\Data\\\\lsi\\\\bbc'\n",
    "    documents = []\n",
    "    r = ''\n",
    "    \n",
    "    df = pd.read_excel('./path_module2.xlsx')\n",
    "    df = df[(df['MODULENAME'] == 'BR_AAA') | (df['MODULENAME'] == 'NP_HAL') | (df['MODULENAME'] == 'RT_NSE') | \\\n",
    "        (df['MODULENAME'] =='RTADAPT_FWD_FRAME') | (df['MODULENAME'] =='NP_HAL') | (df['MODULENAME'] =='RT_NSE')]\n",
    "    j  = 0\n",
    "    target = np.zeros((df.count()['MODULENAME'],), dtype=np.int64)\n",
    "    categories = df['MODULENAME'].unique().tolist()\n",
    "    documents = []\n",
    "    for index, row in df.iterrows():\n",
    "        #data = ' '.join(row['FILENAME'].split('.')[0].split('_'))\n",
    "        arr = row['FILEPATH'].split('.')[0].replace('\\\\', '_').split('_')\n",
    "        arr = list(filter(lambda x: len(x)>0, arr))\n",
    "        data = ' '.join(arr)\n",
    "\n",
    "        documents.append(data)\n",
    "        target[j] = categories.index(row['MODULENAME'])\n",
    "        j = j + 1\n",
    "\n",
    "    return sklearn.datasets.base.Bunch(data=documents, target=target, target_names=categories), categories"
   ]
  },
  {
   "cell_type": "code",
   "execution_count": 2,
   "metadata": {},
   "outputs": [
    {
     "name": "stdout",
     "output_type": "stream",
     "text": [
      "1535 documents\n",
      "4 categories\n",
      "\n"
     ]
    }
   ],
   "source": [
    "dataset, categories = loaddocuments()\n",
    "print(\"%d documents\" % len(dataset.data))\n",
    "print(\"%d categories\" % len(dataset.target_names))\n",
    "print()\n",
    "\n",
    "labels = dataset.target\n",
    "true_k = np.unique(labels).shape[0]\n"
   ]
  },
  {
   "cell_type": "code",
   "execution_count": 3,
   "metadata": {},
   "outputs": [
    {
     "data": {
      "text/plain": [
       "'product service bras src mse aaa aaa aaa show domain'"
      ]
     },
     "execution_count": 3,
     "metadata": {},
     "output_type": "execute_result"
    }
   ],
   "source": [
    "dataset.data[0]"
   ]
  },
  {
   "cell_type": "code",
   "execution_count": 4,
   "metadata": {},
   "outputs": [],
   "source": [
    "from sklearn.decomposition import TruncatedSVD\n",
    "from sklearn.feature_extraction.text import TfidfVectorizer\n",
    "from sklearn.feature_extraction.text import HashingVectorizer\n",
    "from sklearn.feature_extraction.text import TfidfTransformer\n",
    "from sklearn.preprocessing import Normalizer\n",
    "from sklearn.pipeline import make_pipeline\n",
    "from sklearn import metrics"
   ]
  },
  {
   "cell_type": "code",
   "execution_count": 5,
   "metadata": {},
   "outputs": [
    {
     "name": "stdout",
     "output_type": "stream",
     "text": [
      "n_samples: 1535, n_features: 1000\n"
     ]
    }
   ],
   "source": [
    "vectorizer = HashingVectorizer(n_features=1000,\n",
    "                                       norm=None,\n",
    "                                       binary=False)\n",
    "X = vectorizer.fit_transform(dataset.data)\n",
    "print(\"n_samples: %d, n_features: %d\" % X.shape)"
   ]
  },
  {
   "cell_type": "code",
   "execution_count": 6,
   "metadata": {},
   "outputs": [
    {
     "name": "stdout",
     "output_type": "stream",
     "text": [
      "Explained variance of the SVD step: 72%\n"
     ]
    }
   ],
   "source": [
    "svd = TruncatedSVD(15)\n",
    "normalizer = Normalizer(copy=False)\n",
    "lsa = make_pipeline(svd, normalizer)\n",
    "\n",
    "X = lsa.fit_transform(X)\n",
    "\n",
    "explained_variance = svd.explained_variance_ratio_.sum()\n",
    "print(\"Explained variance of the SVD step: {}%\".format(\n",
    "    int(explained_variance * 100)))"
   ]
  },
  {
   "cell_type": "code",
   "execution_count": 10,
   "metadata": {},
   "outputs": [],
   "source": [
    "clustering = MeanShift().fit(X)"
   ]
  },
  {
   "cell_type": "code",
   "execution_count": 11,
   "metadata": {},
   "outputs": [
    {
     "data": {
      "text/plain": [
       "array([0, 0, 0, ..., 0, 0, 0], dtype=int64)"
      ]
     },
     "execution_count": 11,
     "metadata": {},
     "output_type": "execute_result"
    }
   ],
   "source": [
    "clustering.labels_"
   ]
  },
  {
   "cell_type": "code",
   "execution_count": 12,
   "metadata": {},
   "outputs": [
    {
     "data": {
      "text/plain": [
       "[]"
      ]
     },
     "execution_count": 12,
     "metadata": {},
     "output_type": "execute_result"
    }
   ],
   "source": [
    "list(filter(lambda x: x > 0, clustering.labels_))"
   ]
  },
  {
   "cell_type": "code",
   "execution_count": 13,
   "metadata": {},
   "outputs": [
    {
     "data": {
      "text/plain": [
       "array([[ 0.11448346,  0.17224664,  0.04450085, ..., -0.01524511,\n",
       "         0.00823522, -0.00561478],\n",
       "       [ 0.15154788,  0.22045384,  0.05834718, ..., -0.03308092,\n",
       "        -0.00214559,  0.06563823],\n",
       "       [ 0.11518429,  0.17434174,  0.04427975, ..., -0.01442037,\n",
       "         0.00879372, -0.00562977],\n",
       "       ...,\n",
       "       [ 0.36527752,  0.14671409,  0.49909784, ..., -0.0478897 ,\n",
       "         0.14029391, -0.23724564],\n",
       "       [ 0.38262491,  0.168355  ,  0.44308264, ..., -0.01969096,\n",
       "        -0.06508043,  0.06770725],\n",
       "       [ 0.36049744,  0.14772117,  0.50090884, ..., -0.05136362,\n",
       "         0.13915767, -0.24163782]])"
      ]
     },
     "execution_count": 13,
     "metadata": {},
     "output_type": "execute_result"
    }
   ],
   "source": [
    "from sklearn.semi_supervised import LabelPropagation\n",
    "label_prop_model = LabelPropagation()\n",
    "X"
   ]
  },
  {
   "cell_type": "code",
   "execution_count": 15,
   "metadata": {},
   "outputs": [],
   "source": [
    "d = X\n",
    "rng = np.random.RandomState(42)\n",
    "random_unlabeled_points = rng.rand(len(labels )) < 0.3\n",
    "newlabels = np.copy(labels)\n",
    "newlabels[random_unlabeled_points] = -1"
   ]
  },
  {
   "cell_type": "code",
   "execution_count": 16,
   "metadata": {},
   "outputs": [
    {
     "data": {
      "text/plain": [
       "LabelPropagation(gamma=20, kernel='rbf', max_iter=1000, n_jobs=None,\n",
       "                 n_neighbors=7, tol=0.001)"
      ]
     },
     "execution_count": 16,
     "metadata": {},
     "output_type": "execute_result"
    }
   ],
   "source": [
    "label_prop_model.fit(d, newlabels)"
   ]
  },
  {
   "cell_type": "code",
   "execution_count": 24,
   "metadata": {},
   "outputs": [
    {
     "data": {
      "text/plain": [
       "array([ 0.11448346,  0.17224664,  0.04450085,  0.32418154,  0.85900845,\n",
       "        0.0013512 ,  0.03270071,  0.02027077, -0.33009191, -0.00299345,\n",
       "        0.03702872,  0.01002644, -0.01524511,  0.00823522, -0.00561478])"
      ]
     },
     "execution_count": 24,
     "metadata": {},
     "output_type": "execute_result"
    }
   ],
   "source": [
    "len(list(filter(lambda x: x == False, random_unlabeled_points)))\n",
    "X[0]"
   ]
  },
  {
   "cell_type": "code",
   "execution_count": 23,
   "metadata": {},
   "outputs": [
    {
     "name": "stdout",
     "output_type": "stream",
     "text": [
      "Total:  476 ; wrong:  0\n"
     ]
    }
   ],
   "source": [
    "q = np.zeros((len(list(filter(lambda x: x == True, random_unlabeled_points))), X.shape[1]))\n",
    "k = 0\n",
    "actual = []\n",
    "for l in range(len(newlabels)):\n",
    "    if newlabels[l] == -1:\n",
    "        for j in range(X.shape[1]):\n",
    "            q[k][j] = d[l][j]\n",
    "        actual.append(labels[l])\n",
    "        k = k + 1\n",
    "\n",
    "p = label_prop_model.predict(q)\n",
    "wrong = 0\n",
    "for i in range(len(p)):\n",
    "    if p[i] != actual[i]:\n",
    "        wrong = wrong + 1\n",
    "print('Total: ', len(p), '; wrong: ', wrong)\n",
    "#print('predicted: ', label_prop_model.predict(q), ', actual: ', actual)"
   ]
  },
  {
   "cell_type": "code",
   "execution_count": 103,
   "metadata": {},
   "outputs": [
    {
     "name": "stdout",
     "output_type": "stream",
     "text": [
      "Requirement already up-to-date: gap-stat in d:\\programdata\\anaconda3\\lib\\site-packages (1.7.1)\n",
      "Requirement already satisfied, skipping upgrade: pandas in d:\\programdata\\anaconda3\\lib\\site-packages (from gap-stat) (0.25.1)\n",
      "Requirement already satisfied, skipping upgrade: scipy in d:\\programdata\\anaconda3\\lib\\site-packages (from gap-stat) (1.3.1)\n",
      "Requirement already satisfied, skipping upgrade: numpy in d:\\programdata\\anaconda3\\lib\\site-packages (from gap-stat) (1.16.5)\n",
      "Requirement already satisfied, skipping upgrade: python-dateutil>=2.6.1 in d:\\programdata\\anaconda3\\lib\\site-packages (from pandas->gap-stat) (2.8.0)\n",
      "Requirement already satisfied, skipping upgrade: pytz>=2017.2 in d:\\programdata\\anaconda3\\lib\\site-packages (from pandas->gap-stat) (2019.3)\n",
      "Requirement already satisfied, skipping upgrade: six>=1.5 in d:\\programdata\\anaconda3\\lib\\site-packages (from python-dateutil>=2.6.1->pandas->gap-stat) (1.12.0)\n"
     ]
    }
   ],
   "source": [
    "!pip install --upgrade gap-stat"
   ]
  },
  {
   "cell_type": "code",
   "execution_count": 107,
   "metadata": {},
   "outputs": [],
   "source": [
    "from gap_statistic import OptimalK"
   ]
  },
  {
   "cell_type": "code",
   "execution_count": 108,
   "metadata": {},
   "outputs": [
    {
     "data": {
      "text/html": [
       "<p>OptimalK(n_jobs=8, parallel_backend=\"rust\")</p>"
      ],
      "text/plain": [
       "OptimalK(n_jobs=8, parallel_backend=\"rust\")"
      ]
     },
     "execution_count": 108,
     "metadata": {},
     "output_type": "execute_result"
    }
   ],
   "source": [
    "optimalK = OptimalK(parallel_backend='rust')\n",
    "optimalK"
   ]
  },
  {
   "cell_type": "code",
   "execution_count": 109,
   "metadata": {},
   "outputs": [],
   "source": [
    "from sklearn.datasets.samples_generator import make_blobs"
   ]
  },
  {
   "cell_type": "code",
   "execution_count": 118,
   "metadata": {},
   "outputs": [
    {
     "name": "stdout",
     "output_type": "stream",
     "text": [
      "Data shape:  (1000, 2)\n",
      "Optimal clusters:  2\n"
     ]
    }
   ],
   "source": [
    "X, y = make_blobs(n_samples=int(1e3), n_features=2, centers=3, random_state=25)\n",
    "print('Data shape: ', X.shape)\n",
    "\n",
    "n_clusters = optimalK(X, cluster_array=np.arange(1, 15))\n",
    "print('Optimal clusters: ', n_clusters)"
   ]
  },
  {
   "cell_type": "code",
   "execution_count": 119,
   "metadata": {},
   "outputs": [
    {
     "data": {
      "image/png": "[encoded data removed]",
      "text/plain": [
       "<Figure size 432x288 with 1 Axes>"
      ]
     },
     "metadata": {
      "needs_background": "light"
     },
     "output_type": "display_data"
    }
   ],
   "source": [
    "plt.plot(optimalK.gap_df.n_clusters, optimalK.gap_df.gap_value, linewidth=3)\n",
    "plt.scatter(optimalK.gap_df[optimalK.gap_df.n_clusters == n_clusters].n_clusters,\n",
    "            optimalK.gap_df[optimalK.gap_df.n_clusters == n_clusters].gap_value, s=250, c='r')\n",
    "plt.grid(True)\n",
    "plt.xlabel('Cluster Count')\n",
    "plt.ylabel('Gap Value')\n",
    "plt.title('Gap Values by Cluster Count')\n",
    "plt.show()"
   ]
  },
  {
   "cell_type": "code",
   "execution_count": 121,
   "metadata": {},
   "outputs": [
    {
     "data": {
      "text/plain": [
       "array([[ 6.25403299,  4.14238553],\n",
       "       [-1.51790146, -7.66446399],\n",
       "       [-4.51979763, -7.11993667],\n",
       "       ...,\n",
       "       [ 6.69642409,  1.22875987],\n",
       "       [-3.05883241, -7.30460704],\n",
       "       [ 7.43507273,  0.54901084]])"
      ]
     },
     "execution_count": 121,
     "metadata": {},
     "output_type": "execute_result"
    }
   ],
   "source": [
    "X"
   ]
  }
 ],
 "metadata": {
  "kernelspec": {
   "display_name": "Python 3",
   "language": "python",
   "name": "python3"
  },
  "language_info": {
   "codemirror_mode": {
    "name": "ipython",
    "version": 3
   },
   "file_extension": ".py",
   "mimetype": "text/x-python",
   "name": "python",
   "nbconvert_exporter": "python",
   "pygments_lexer": "ipython3",
   "version": "3.7.4"
  }
 },
 "nbformat": 4,
 "nbformat_minor": 2
}
